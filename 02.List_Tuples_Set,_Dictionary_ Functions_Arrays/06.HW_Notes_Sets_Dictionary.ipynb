{
 "cells": [
  {
   "cell_type": "markdown",
   "id": "5e00a99c-5df1-4b67-971b-ca2f5e837d0a",
   "metadata": {},
   "source": [
    "https://drive.google.com/file/d/1Oa18QPLp2alMyrU0iMXxMIxfMLOXR27B/view?usp=sharing -->H_W_Notes_Sets_Dictionary"
   ]
  },
  {
   "cell_type": "code",
   "execution_count": null,
   "id": "92eb9c75-125c-4eb0-9cf5-a7374c013924",
   "metadata": {},
   "outputs": [],
   "source": []
  }
 ],
 "metadata": {
  "kernelspec": {
   "display_name": "Python 3 (ipykernel)",
   "language": "python",
   "name": "python3"
  },
  "language_info": {
   "codemirror_mode": {
    "name": "ipython",
    "version": 3
   },
   "file_extension": ".py",
   "mimetype": "text/x-python",
   "name": "python",
   "nbconvert_exporter": "python",
   "pygments_lexer": "ipython3",
   "version": "3.11.7"
  }
 },
 "nbformat": 4,
 "nbformat_minor": 5
}
