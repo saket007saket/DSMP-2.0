{
 "cells": [
  {
   "cell_type": "markdown",
   "id": "fe2a5939-b5a4-48d2-ad9e-0ad9e02a8ac5",
   "metadata": {},
   "source": [
    "https://drive.google.com/file/d/1aZPOiYkDlXU5-kJvSYebpThHw7QSCelo/view?usp=sharing --> HW_Notes_List_Tuples"
   ]
  },
  {
   "cell_type": "code",
   "execution_count": null,
   "id": "45302cfa-e0e4-4add-91ca-f6f739dd51bb",
   "metadata": {},
   "outputs": [],
   "source": []
  }
 ],
 "metadata": {
  "kernelspec": {
   "display_name": "Python 3 (ipykernel)",
   "language": "python",
   "name": "python3"
  },
  "language_info": {
   "codemirror_mode": {
    "name": "ipython",
    "version": 3
   },
   "file_extension": ".py",
   "mimetype": "text/x-python",
   "name": "python",
   "nbconvert_exporter": "python",
   "pygments_lexer": "ipython3",
   "version": "3.11.7"
  }
 },
 "nbformat": 4,
 "nbformat_minor": 5
}
