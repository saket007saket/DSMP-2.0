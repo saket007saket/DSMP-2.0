{
 "cells": [
  {
   "cell_type": "markdown",
   "id": "cc52b9de-bbb7-4214-a750-3811f1551d51",
   "metadata": {},
   "source": [
    "https://drive.google.com/file/d/1qWxC5mn1k9Sv-q7QJqhNEvZfYkEkmWf2/view?usp=sharing -->Func_arg_kwarg_lambda_map_reduce_filter"
   ]
  },
  {
   "cell_type": "code",
   "execution_count": null,
   "id": "723df0f8-e694-4dee-a326-8216fa6b669c",
   "metadata": {},
   "outputs": [],
   "source": []
  }
 ],
 "metadata": {
  "kernelspec": {
   "display_name": "Python 3 (ipykernel)",
   "language": "python",
   "name": "python3"
  },
  "language_info": {
   "codemirror_mode": {
    "name": "ipython",
    "version": 3
   },
   "file_extension": ".py",
   "mimetype": "text/x-python",
   "name": "python",
   "nbconvert_exporter": "python",
   "pygments_lexer": "ipython3",
   "version": "3.11.7"
  }
 },
 "nbformat": 4,
 "nbformat_minor": 5
}
