{
 "cells": [
  {
   "cell_type": "markdown",
   "id": "7e396fe5-1c14-4240-80bc-29ee8c4bc84c",
   "metadata": {},
   "source": [
    "https://drive.google.com/file/d/1qUcZqhvwhlWp6eAM_zvKLbBq1uuI39Pd/view?usp=sharing  -->HW_Notes_Pandas_Series_DF_methods"
   ]
  },
  {
   "cell_type": "code",
   "execution_count": null,
   "id": "6f7e6d28-fd87-403f-abb2-c8c79dacc50a",
   "metadata": {},
   "outputs": [],
   "source": []
  }
 ],
 "metadata": {
  "kernelspec": {
   "display_name": "Python 3 (ipykernel)",
   "language": "python",
   "name": "python3"
  },
  "language_info": {
   "codemirror_mode": {
    "name": "ipython",
    "version": 3
   },
   "file_extension": ".py",
   "mimetype": "text/x-python",
   "name": "python",
   "nbconvert_exporter": "python",
   "pygments_lexer": "ipython3",
   "version": "3.11.7"
  }
 },
 "nbformat": 4,
 "nbformat_minor": 5
}
