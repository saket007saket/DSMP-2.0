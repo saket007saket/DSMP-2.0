{
 "cells": [
  {
   "cell_type": "markdown",
   "id": "b6518252-8f2b-4e9a-ab25-09513772ebfa",
   "metadata": {},
   "source": [
    "https://drive.google.com/file/d/1mCTrfjmIFSx0C_MJEyNDCx8dXBo9du6A/view?usp=sharing -->H_W_Notes_Numpy"
   ]
  },
  {
   "cell_type": "code",
   "execution_count": null,
   "id": "f62abf91-11e3-44d3-b6cb-bef76a0ef1ce",
   "metadata": {},
   "outputs": [],
   "source": []
  }
 ],
 "metadata": {
  "kernelspec": {
   "display_name": "Python 3 (ipykernel)",
   "language": "python",
   "name": "python3"
  },
  "language_info": {
   "codemirror_mode": {
    "name": "ipython",
    "version": 3
   },
   "file_extension": ".py",
   "mimetype": "text/x-python",
   "name": "python",
   "nbconvert_exporter": "python",
   "pygments_lexer": "ipython3",
   "version": "3.11.7"
  }
 },
 "nbformat": 4,
 "nbformat_minor": 5
}
